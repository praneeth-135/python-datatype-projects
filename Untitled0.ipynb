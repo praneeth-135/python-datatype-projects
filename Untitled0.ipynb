{
  "nbformat": 4,
  "nbformat_minor": 0,
  "metadata": {
    "colab": {
      "provenance": []
    },
    "kernelspec": {
      "name": "python3",
      "display_name": "Python 3"
    },
    "language_info": {
      "name": "python"
    }
  },
  "cells": [
    {
      "cell_type": "code",
      "execution_count": 1,
      "metadata": {
        "id": "kJ83mRnwQcSw"
      },
      "outputs": [],
      "source": [
        "a=18"
      ]
    },
    {
      "cell_type": "code",
      "source": [
        "b=14"
      ],
      "metadata": {
        "id": "CqZI1aHtQhjz"
      },
      "execution_count": 2,
      "outputs": []
    },
    {
      "cell_type": "code",
      "source": [
        "print(a+b)"
      ],
      "metadata": {
        "colab": {
          "base_uri": "https://localhost:8080/"
        },
        "id": "h8_QIn20QiqR",
        "outputId": "a4e698d1-dcab-488b-dc46-6ab68af64ecc"
      },
      "execution_count": 4,
      "outputs": [
        {
          "output_type": "stream",
          "name": "stdout",
          "text": [
            "32\n"
          ]
        }
      ]
    },
    {
      "cell_type": "code",
      "source": [],
      "metadata": {
        "id": "5TGcm3yNQkk5"
      },
      "execution_count": null,
      "outputs": []
    }
  ]
}