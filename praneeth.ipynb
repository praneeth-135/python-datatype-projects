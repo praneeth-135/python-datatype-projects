{
 "cells": [
  {
   "cell_type": "markdown",
   "id": "ba78f34d-ee4d-4041-8f89-6f9fa024db72",
   "metadata": {},
   "source": [
    "### addition   +\n",
    "### substraction   -\n",
    "### multiplication   *\n",
    "### division   /\n",
    "### remainder   %\n",
    "### power   **\n",
    "### floor division   //"
   ]
  },
  {
   "cell_type": "code",
   "execution_count": 1,
   "id": "04aaf180-d42c-4f58-8d88-edaf3d6805fd",
   "metadata": {
    "jupyter": {
     "source_hidden": true
    }
   },
   "outputs": [],
   "source": [
    "a=67\n",
    "b=8"
   ]
  },
  {
   "cell_type": "code",
   "execution_count": 2,
   "id": "4154b084-5c87-4824-a639-c4794b893b0b",
   "metadata": {
    "collapsed": true,
    "jupyter": {
     "outputs_hidden": true
    }
   },
   "outputs": [
    {
     "name": "stdout",
     "output_type": "stream",
     "text": [
      "67\n",
      "8\n"
     ]
    }
   ],
   "source": [
    "print(a)\n",
    "print(b)"
   ]
  },
  {
   "cell_type": "code",
   "execution_count": 4,
   "id": "a6acf342-6d62-4ca5-a012-9922ad88f27e",
   "metadata": {
    "scrolled": true
   },
   "outputs": [
    {
     "data": {
      "text/plain": [
       "75"
      ]
     },
     "execution_count": 4,
     "metadata": {},
     "output_type": "execute_result"
    }
   ],
   "source": [
    "c=a+b\n",
    "c"
   ]
  },
  {
   "cell_type": "code",
   "execution_count": 5,
   "id": "49f867e0-1f8b-489f-9935-7d277996c496",
   "metadata": {},
   "outputs": [
    {
     "data": {
      "text/plain": [
       "int"
      ]
     },
     "execution_count": 5,
     "metadata": {},
     "output_type": "execute_result"
    }
   ],
   "source": [
    "type(c)"
   ]
  },
  {
   "cell_type": "code",
   "execution_count": 8,
   "id": "76a74270-6d07-4682-aaf4-a6738f8fc17e",
   "metadata": {},
   "outputs": [
    {
     "data": {
      "text/plain": [
       "59"
      ]
     },
     "execution_count": 8,
     "metadata": {},
     "output_type": "execute_result"
    }
   ],
   "source": [
    "d=a-b\n",
    "d"
   ]
  },
  {
   "cell_type": "code",
   "execution_count": 9,
   "id": "07b856a2-5d16-4f95-b023-6a334adceeeb",
   "metadata": {},
   "outputs": [
    {
     "data": {
      "text/plain": [
       "int"
      ]
     },
     "execution_count": 9,
     "metadata": {},
     "output_type": "execute_result"
    }
   ],
   "source": [
    "type(d)"
   ]
  },
  {
   "cell_type": "code",
   "execution_count": 10,
   "id": "5c085b22-1dac-4a79-b91d-0c80ff488377",
   "metadata": {},
   "outputs": [
    {
     "data": {
      "text/plain": [
       "536"
      ]
     },
     "execution_count": 10,
     "metadata": {},
     "output_type": "execute_result"
    }
   ],
   "source": [
    "e=a*b\n",
    "e"
   ]
  },
  {
   "cell_type": "code",
   "execution_count": 11,
   "id": "1bc48141-de9b-4854-b2c6-5e71ba983437",
   "metadata": {},
   "outputs": [
    {
     "data": {
      "text/plain": [
       "int"
      ]
     },
     "execution_count": 11,
     "metadata": {},
     "output_type": "execute_result"
    }
   ],
   "source": [
    "type(e)\n"
   ]
  },
  {
   "cell_type": "code",
   "execution_count": 12,
   "id": "c68b3eee-8ea4-4eda-a91a-53690ae847cc",
   "metadata": {},
   "outputs": [
    {
     "data": {
      "text/plain": [
       "8.375"
      ]
     },
     "execution_count": 12,
     "metadata": {},
     "output_type": "execute_result"
    }
   ],
   "source": [
    "f=a/b\n",
    "f"
   ]
  },
  {
   "cell_type": "code",
   "execution_count": 13,
   "id": "f57c87bf-c6c7-4e01-a5d1-81d53a5bae5b",
   "metadata": {},
   "outputs": [
    {
     "data": {
      "text/plain": [
       "int"
      ]
     },
     "execution_count": 13,
     "metadata": {},
     "output_type": "execute_result"
    }
   ],
   "source": [
    "type(c)"
   ]
  },
  {
   "cell_type": "code",
   "execution_count": 14,
   "id": "64e1bd2f-5e77-41d8-a142-a4bc503d074f",
   "metadata": {},
   "outputs": [
    {
     "data": {
      "text/plain": [
       "406067677556641"
      ]
     },
     "execution_count": 14,
     "metadata": {},
     "output_type": "execute_result"
    }
   ],
   "source": [
    "g=a**b\n",
    "g"
   ]
  },
  {
   "cell_type": "code",
   "execution_count": 15,
   "id": "9c6a6aee-1bae-4257-b84b-a3bb1ff6dde6",
   "metadata": {},
   "outputs": [
    {
     "data": {
      "text/plain": [
       "int"
      ]
     },
     "execution_count": 15,
     "metadata": {},
     "output_type": "execute_result"
    }
   ],
   "source": [
    "type(g)\n"
   ]
  },
  {
   "cell_type": "code",
   "execution_count": 16,
   "id": "880e2d86-53e9-4ed9-857e-07d7e3338b99",
   "metadata": {},
   "outputs": [
    {
     "data": {
      "text/plain": [
       "3"
      ]
     },
     "execution_count": 16,
     "metadata": {},
     "output_type": "execute_result"
    }
   ],
   "source": [
    "h=a%b\n",
    "h"
   ]
  },
  {
   "cell_type": "code",
   "execution_count": 17,
   "id": "4a3fc7a0-3d0b-401b-a49b-960eaa99a970",
   "metadata": {},
   "outputs": [
    {
     "data": {
      "text/plain": [
       "int"
      ]
     },
     "execution_count": 17,
     "metadata": {},
     "output_type": "execute_result"
    }
   ],
   "source": [
    "type(h)\n"
   ]
  },
  {
   "cell_type": "code",
   "execution_count": 18,
   "id": "e99c96bc-12ad-43ce-a90d-fe1442f7a2db",
   "metadata": {},
   "outputs": [
    {
     "data": {
      "text/plain": [
       "8"
      ]
     },
     "execution_count": 18,
     "metadata": {},
     "output_type": "execute_result"
    }
   ],
   "source": [
    "j=a//b\n",
    "j"
   ]
  },
  {
   "cell_type": "code",
   "execution_count": 19,
   "id": "9d5c640f-d647-47b6-b6b8-191f82a6f42e",
   "metadata": {},
   "outputs": [
    {
     "data": {
      "text/plain": [
       "int"
      ]
     },
     "execution_count": 19,
     "metadata": {},
     "output_type": "execute_result"
    }
   ],
   "source": [
    "type(j)"
   ]
  },
  {
   "cell_type": "markdown",
   "id": "65108574-a0e5-40a3-8b09-d1cd66dd6f24",
   "metadata": {},
   "source": [
    "> < >= <= == !="
   ]
  },
  {
   "cell_type": "code",
   "execution_count": 21,
   "id": "8bd3ed6b-fd0b-4671-a67b-b1132c801760",
   "metadata": {},
   "outputs": [],
   "source": [
    "x=40\n",
    "y=30\n"
   ]
  },
  {
   "cell_type": "code",
   "execution_count": 22,
   "id": "c6b81438-f7a9-48d7-8979-3ff463dbe9a7",
   "metadata": {},
   "outputs": [
    {
     "data": {
      "text/plain": [
       "True"
      ]
     },
     "execution_count": 22,
     "metadata": {},
     "output_type": "execute_result"
    }
   ],
   "source": [
    "x>y"
   ]
  },
  {
   "cell_type": "code",
   "execution_count": 23,
   "id": "488f5e10-a836-4e4d-ae8f-4fc5a9fd4276",
   "metadata": {},
   "outputs": [
    {
     "data": {
      "text/plain": [
       "False"
      ]
     },
     "execution_count": 23,
     "metadata": {},
     "output_type": "execute_result"
    }
   ],
   "source": [
    "x<y"
   ]
  },
  {
   "cell_type": "code",
   "execution_count": 24,
   "id": "99c47243-1558-4f99-abf2-34dc80262899",
   "metadata": {},
   "outputs": [
    {
     "data": {
      "text/plain": [
       "False"
      ]
     },
     "execution_count": 24,
     "metadata": {},
     "output_type": "execute_result"
    }
   ],
   "source": [
    "x<=y"
   ]
  },
  {
   "cell_type": "code",
   "execution_count": 25,
   "id": "e1c19a63-3e61-45b5-a587-4cc4aaf42eb2",
   "metadata": {},
   "outputs": [
    {
     "data": {
      "text/plain": [
       "True"
      ]
     },
     "execution_count": 25,
     "metadata": {},
     "output_type": "execute_result"
    }
   ],
   "source": [
    "x>=y"
   ]
  },
  {
   "cell_type": "code",
   "execution_count": 28,
   "id": "3af8bb5b-2888-40b4-b624-ed671347d2dd",
   "metadata": {},
   "outputs": [
    {
     "data": {
      "text/plain": [
       "False"
      ]
     },
     "execution_count": 28,
     "metadata": {},
     "output_type": "execute_result"
    }
   ],
   "source": [
    "x==y"
   ]
  },
  {
   "cell_type": "code",
   "execution_count": 26,
   "id": "d2fdbaf3-78f4-452a-a9a0-a881621ec11d",
   "metadata": {},
   "outputs": [
    {
     "data": {
      "text/plain": [
       "True"
      ]
     },
     "execution_count": 26,
     "metadata": {},
     "output_type": "execute_result"
    }
   ],
   "source": [
    "x!=y"
   ]
  },
  {
   "cell_type": "code",
   "execution_count": 29,
   "id": "5b005dee-f87f-46b9-893a-b50f40234599",
   "metadata": {},
   "outputs": [],
   "source": [
    "s = 'data'\n",
    "m = 'DATA'"
   ]
  },
  {
   "cell_type": "code",
   "execution_count": 30,
   "id": "d9d6688c-a0f2-4442-ad0f-fc7e5fd86373",
   "metadata": {},
   "outputs": [
    {
     "data": {
      "text/plain": [
       "False"
      ]
     },
     "execution_count": 30,
     "metadata": {},
     "output_type": "execute_result"
    }
   ],
   "source": [
    "s==m"
   ]
  },
  {
   "cell_type": "code",
   "execution_count": 31,
   "id": "500f6352-d3ee-46ed-96aa-b4484d8d2b4e",
   "metadata": {},
   "outputs": [
    {
     "data": {
      "text/plain": [
       "True"
      ]
     },
     "execution_count": 31,
     "metadata": {},
     "output_type": "execute_result"
    }
   ],
   "source": [
    "s!=m"
   ]
  },
  {
   "cell_type": "code",
   "execution_count": 32,
   "id": "af1d69f5-8d36-418d-9817-d3acfd793f6e",
   "metadata": {},
   "outputs": [
    {
     "data": {
      "text/plain": [
       "False"
      ]
     },
     "execution_count": 32,
     "metadata": {},
     "output_type": "execute_result"
    }
   ],
   "source": [
    "s<m"
   ]
  },
  {
   "cell_type": "code",
   "execution_count": 33,
   "id": "1c196fcd-0ea2-4acf-a76f-f60b952e1b71",
   "metadata": {},
   "outputs": [
    {
     "data": {
      "text/plain": [
       "True"
      ]
     },
     "execution_count": 33,
     "metadata": {},
     "output_type": "execute_result"
    }
   ],
   "source": [
    "s>m"
   ]
  },
  {
   "cell_type": "code",
   "execution_count": 34,
   "id": "15a6cead-ffe1-4766-9cc6-f11dbc956a9a",
   "metadata": {},
   "outputs": [
    {
     "data": {
      "text/plain": [
       "False"
      ]
     },
     "execution_count": 34,
     "metadata": {},
     "output_type": "execute_result"
    }
   ],
   "source": [
    "s<=m"
   ]
  },
  {
   "cell_type": "code",
   "execution_count": 35,
   "id": "6d73c832-dea8-4845-9213-4078b82f5fc8",
   "metadata": {},
   "outputs": [
    {
     "data": {
      "text/plain": [
       "True"
      ]
     },
     "execution_count": 35,
     "metadata": {},
     "output_type": "execute_result"
    }
   ],
   "source": [
    "s>=m"
   ]
  },
  {
   "cell_type": "markdown",
   "id": "6b86e228-8454-456f-bf7f-7266c3afa33e",
   "metadata": {},
   "source": [
    "and \n",
    "or\n",
    "not"
   ]
  },
  {
   "cell_type": "code",
   "execution_count": 36,
   "id": "9043035f-3302-468a-a6ab-abd4deb0fd4f",
   "metadata": {},
   "outputs": [
    {
     "data": {
      "text/plain": [
       "False"
      ]
     },
     "execution_count": 36,
     "metadata": {},
     "output_type": "execute_result"
    }
   ],
   "source": [
    "(x>y) and (x>100)"
   ]
  },
  {
   "cell_type": "code",
   "execution_count": 37,
   "id": "ebd8516a-b824-49a4-8cbc-ce758c39f54b",
   "metadata": {},
   "outputs": [
    {
     "data": {
      "text/plain": [
       "True"
      ]
     },
     "execution_count": 37,
     "metadata": {},
     "output_type": "execute_result"
    }
   ],
   "source": [
    "(x>y) or (x>100)"
   ]
  },
  {
   "cell_type": "code",
   "execution_count": 40,
   "id": "5fecc235-edf6-44ee-96fa-003b57673a05",
   "metadata": {},
   "outputs": [
    {
     "data": {
      "text/plain": [
       "False"
      ]
     },
     "execution_count": 40,
     "metadata": {},
     "output_type": "execute_result"
    }
   ],
   "source": [
    "True and True  --- True\n",
    "True and False  --- False\n",
    "False and True  --- False\n",
    "False and False  --- False"
   ]
  },
  {
   "cell_type": "code",
   "execution_count": 41,
   "id": "f74b0913-bc42-4cad-802f-bb664f01c7c5",
   "metadata": {},
   "outputs": [
    {
     "data": {
      "text/plain": [
       "0"
      ]
     },
     "execution_count": 41,
     "metadata": {},
     "output_type": "execute_result"
    }
   ],
   "source": [
    "True or True --- True\n",
    "True or False --- True\n",
    "False or True --- True\n",
    "False or False --- False"
   ]
  },
  {
   "cell_type": "code",
   "execution_count": 1,
   "id": "bd05c6f5-45b4-4ca0-ad81-349f5b35ff3f",
   "metadata": {},
   "outputs": [
    {
     "data": {
      "text/plain": [
       "[23, 32, 43, 54]"
      ]
     },
     "execution_count": 1,
     "metadata": {},
     "output_type": "execute_result"
    }
   ],
   "source": [
    "a=[23, 32, 43, 54]\n",
    "a"
   ]
  },
  {
   "cell_type": "code",
   "execution_count": 2,
   "id": "cfbc1454-7050-4d1d-9c9a-05421469e3b7",
   "metadata": {},
   "outputs": [
    {
     "data": {
      "text/plain": [
       "list"
      ]
     },
     "execution_count": 2,
     "metadata": {},
     "output_type": "execute_result"
    }
   ],
   "source": [
    "type(a)\n",
    "\n"
   ]
  },
  {
   "cell_type": "code",
   "execution_count": 122,
   "id": "817d236b-758b-4cf3-adbe-8d6ab0c04987",
   "metadata": {},
   "outputs": [
    {
     "data": {
      "text/plain": [
       "203"
      ]
     },
     "execution_count": 122,
     "metadata": {},
     "output_type": "execute_result"
    }
   ],
   "source": [
    "c=[203, 'Hyderabad', 2.03,True,False,45]\n",
    "c[0]"
   ]
  },
  {
   "cell_type": "code",
   "execution_count": 123,
   "id": "d40956b5-f1b5-4a5e-adb6-641da860d157",
   "metadata": {},
   "outputs": [
    {
     "data": {
      "text/plain": [
       "True"
      ]
     },
     "execution_count": 123,
     "metadata": {},
     "output_type": "execute_result"
    }
   ],
   "source": [
    "c[3]"
   ]
  },
  {
   "cell_type": "code",
   "execution_count": 124,
   "id": "70541b20-a586-480f-a101-65a90b855c19",
   "metadata": {},
   "outputs": [
    {
     "data": {
      "text/plain": [
       "2.03"
      ]
     },
     "execution_count": 124,
     "metadata": {},
     "output_type": "execute_result"
    }
   ],
   "source": [
    "c[2]"
   ]
  },
  {
   "cell_type": "code",
   "execution_count": 125,
   "id": "3b9a4dc1-975e-44c4-944e-fa28bfff567c",
   "metadata": {},
   "outputs": [
    {
     "data": {
      "text/plain": [
       "45"
      ]
     },
     "execution_count": 125,
     "metadata": {},
     "output_type": "execute_result"
    }
   ],
   "source": [
    "c[-1]"
   ]
  },
  {
   "cell_type": "code",
   "execution_count": 126,
   "id": "cae9bc52-2be1-46b7-ab20-03d2dadb2c95",
   "metadata": {},
   "outputs": [
    {
     "data": {
      "text/plain": [
       "[2.03, True, False, 45]"
      ]
     },
     "execution_count": 126,
     "metadata": {},
     "output_type": "execute_result"
    }
   ],
   "source": [
    "c[2 : 45 ]    #listname[start:end]"
   ]
  },
  {
   "cell_type": "code",
   "execution_count": 127,
   "id": "d9071d04-afba-4ae6-ad20-35ccb0fd6abb",
   "metadata": {},
   "outputs": [
    {
     "data": {
      "text/plain": [
       "[203, 'Hyderabad', 2.03, True, False]"
      ]
     },
     "execution_count": 127,
     "metadata": {},
     "output_type": "execute_result"
    }
   ],
   "source": [
    "c[0 : 5 ]"
   ]
  },
  {
   "cell_type": "code",
   "execution_count": 128,
   "id": "560a93db-e0e0-4933-9819-c802e7291444",
   "metadata": {},
   "outputs": [
    {
     "data": {
      "text/plain": [
       "[203, 'Hyderabad', 2.03, True, False, 45]"
      ]
     },
     "execution_count": 128,
     "metadata": {},
     "output_type": "execute_result"
    }
   ],
   "source": [
    "c[0 : 7]"
   ]
  },
  {
   "cell_type": "code",
   "execution_count": 129,
   "id": "269f39d6-c596-4b6d-9d16-d05b5b378076",
   "metadata": {},
   "outputs": [
    {
     "data": {
      "text/plain": [
       "['Hyderabad', True, 45]"
      ]
     },
     "execution_count": 129,
     "metadata": {},
     "output_type": "execute_result"
    }
   ],
   "source": [
    "c[1:6:2]      #listname[start:end:step]\n"
   ]
  },
  {
   "cell_type": "code",
   "execution_count": 130,
   "id": "884ef138-ef5c-43d2-b95d-c62df7b14517",
   "metadata": {},
   "outputs": [
    {
     "data": {
      "text/plain": [
       "[45, False, True, 2.03]"
      ]
     },
     "execution_count": 130,
     "metadata": {},
     "output_type": "execute_result"
    }
   ],
   "source": [
    "c[5:1:-1]"
   ]
  },
  {
   "cell_type": "code",
   "execution_count": 131,
   "id": "34fc1bcb-e47c-47ce-91f8-8689cdc4238a",
   "metadata": {},
   "outputs": [
    {
     "data": {
      "text/plain": [
       "[45, True]"
      ]
     },
     "execution_count": 131,
     "metadata": {},
     "output_type": "execute_result"
    }
   ],
   "source": [
    "c[5:1:-2]"
   ]
  },
  {
   "cell_type": "markdown",
   "id": "7c2cb056-2520-4628-9d12-f8446850db11",
   "metadata": {},
   "source": [
    "append\n",
    "insert\n",
    "remove\n",
    "pop\n",
    "recursive\n",
    "clear\n",
    "count"
   ]
  },
  {
   "cell_type": "code",
   "execution_count": 132,
   "id": "4bfaaae3-e88f-43e2-8688-0cd6d1ad9acb",
   "metadata": {},
   "outputs": [
    {
     "data": {
      "text/plain": [
       "[203, 'Hyderabad', 2.03, True, False, 45]"
      ]
     },
     "execution_count": 132,
     "metadata": {},
     "output_type": "execute_result"
    }
   ],
   "source": [
    "c"
   ]
  },
  {
   "cell_type": "code",
   "execution_count": 133,
   "id": "755666d9-3ba9-40eb-8aa9-b669f348c055",
   "metadata": {},
   "outputs": [],
   "source": [
    "c.append('India')"
   ]
  },
  {
   "cell_type": "raw",
   "id": "c78a74da-21a6-40a6-9026-096db43d5017",
   "metadata": {},
   "source": [
    "c.insert(4,90)\n"
   ]
  },
  {
   "cell_type": "code",
   "execution_count": 134,
   "id": "3f0abafb-3ba3-4613-b8e9-7079cda1b103",
   "metadata": {},
   "outputs": [
    {
     "data": {
      "text/plain": [
       "[203, 'Hyderabad', 2.03, True, False, 45, 'India']"
      ]
     },
     "execution_count": 134,
     "metadata": {},
     "output_type": "execute_result"
    }
   ],
   "source": [
    "c"
   ]
  },
  {
   "cell_type": "code",
   "execution_count": 135,
   "id": "e60101a3-0c1b-4cd2-b7f4-2b693dde480d",
   "metadata": {},
   "outputs": [
    {
     "data": {
      "text/plain": [
       "[203, 'Hyderabad', 2.03, True, False, 45, 'India']"
      ]
     },
     "execution_count": 135,
     "metadata": {},
     "output_type": "execute_result"
    }
   ],
   "source": [
    "c"
   ]
  },
  {
   "cell_type": "code",
   "execution_count": 136,
   "id": "b1b32788-ab1f-461e-a7a2-c9776a59ea3d",
   "metadata": {},
   "outputs": [],
   "source": [
    "c.insert(4,90)"
   ]
  },
  {
   "cell_type": "code",
   "execution_count": 137,
   "id": "8213e6aa-bbd4-4cf4-a2b6-c0203acf688e",
   "metadata": {},
   "outputs": [
    {
     "data": {
      "text/plain": [
       "[203, 'Hyderabad', 2.03, True, 90, False, 45, 'India']"
      ]
     },
     "execution_count": 137,
     "metadata": {},
     "output_type": "execute_result"
    }
   ],
   "source": [
    "c"
   ]
  },
  {
   "cell_type": "code",
   "execution_count": 138,
   "id": "ace9fb6c-0f7e-4bde-a785-ddfd20fd564a",
   "metadata": {},
   "outputs": [
    {
     "data": {
      "text/plain": [
       "'India'"
      ]
     },
     "execution_count": 138,
     "metadata": {},
     "output_type": "execute_result"
    }
   ],
   "source": [
    "c.pop(7)"
   ]
  },
  {
   "cell_type": "code",
   "execution_count": 139,
   "id": "df349d2c-8441-4ab7-906b-8010e498c441",
   "metadata": {},
   "outputs": [
    {
     "data": {
      "text/plain": [
       "[203, 'Hyderabad', 2.03, True, 90, False, 45]"
      ]
     },
     "execution_count": 139,
     "metadata": {},
     "output_type": "execute_result"
    }
   ],
   "source": [
    "c"
   ]
  },
  {
   "cell_type": "code",
   "execution_count": 140,
   "id": "839f9da6-e964-45f8-a246-2aca32f02ccf",
   "metadata": {},
   "outputs": [],
   "source": [
    "c.remove(90)"
   ]
  },
  {
   "cell_type": "code",
   "execution_count": 141,
   "id": "67edd40d-8781-4497-abe9-0abe89e5238f",
   "metadata": {},
   "outputs": [
    {
     "data": {
      "text/plain": [
       "[203, 'Hyderabad', 2.03, True, False, 45]"
      ]
     },
     "execution_count": 141,
     "metadata": {},
     "output_type": "execute_result"
    }
   ],
   "source": [
    "c"
   ]
  },
  {
   "cell_type": "code",
   "execution_count": 142,
   "id": "8529b5fe-0f32-4781-8f24-6a249b15c571",
   "metadata": {},
   "outputs": [],
   "source": [
    "c.append(90)"
   ]
  },
  {
   "cell_type": "code",
   "execution_count": 143,
   "id": "caf5b4bc-abd9-494b-9409-71df70e1527a",
   "metadata": {},
   "outputs": [
    {
     "data": {
      "text/plain": [
       "[203, 'Hyderabad', 2.03, True, False, 45, 90]"
      ]
     },
     "execution_count": 143,
     "metadata": {},
     "output_type": "execute_result"
    }
   ],
   "source": [
    "c"
   ]
  },
  {
   "cell_type": "code",
   "execution_count": 144,
   "id": "b893919e-5f1e-4b9c-a20a-930dc3482cd3",
   "metadata": {},
   "outputs": [],
   "source": [
    "c.append(90)"
   ]
  },
  {
   "cell_type": "code",
   "execution_count": 145,
   "id": "99217545-dd42-4832-9c88-b35582b3d427",
   "metadata": {},
   "outputs": [
    {
     "data": {
      "text/plain": [
       "[203, 'Hyderabad', 2.03, True, False, 45, 90, 90]"
      ]
     },
     "execution_count": 145,
     "metadata": {},
     "output_type": "execute_result"
    }
   ],
   "source": [
    "c"
   ]
  },
  {
   "cell_type": "code",
   "execution_count": 148,
   "id": "6a843b08-2389-4283-9c3a-a2e702b8995c",
   "metadata": {},
   "outputs": [
    {
     "data": {
      "text/plain": [
       "[203, 'Hyderabad', 2.03, True, False, 45, 90, 90, 80, 80]"
      ]
     },
     "execution_count": 148,
     "metadata": {},
     "output_type": "execute_result"
    }
   ],
   "source": [
    "c.append(80)\n",
    "c"
   ]
  },
  {
   "cell_type": "code",
   "execution_count": 147,
   "id": "4768ab42-6e50-44a7-87e9-4f82dbb64f61",
   "metadata": {},
   "outputs": [
    {
     "data": {
      "text/plain": [
       "2"
      ]
     },
     "execution_count": 147,
     "metadata": {},
     "output_type": "execute_result"
    }
   ],
   "source": [
    "c.count(90)"
   ]
  },
  {
   "cell_type": "code",
   "execution_count": 149,
   "id": "288e7007-cb3c-4024-8f3b-ef8521be07e5",
   "metadata": {},
   "outputs": [
    {
     "data": {
      "text/plain": [
       "2"
      ]
     },
     "execution_count": 149,
     "metadata": {},
     "output_type": "execute_result"
    }
   ],
   "source": [
    "c.count(80)"
   ]
  },
  {
   "cell_type": "code",
   "execution_count": 152,
   "id": "a7d15402-e4ec-4fce-a89d-65be062842a6",
   "metadata": {},
   "outputs": [],
   "source": [
    "c.extend([60,70,30])"
   ]
  },
  {
   "cell_type": "code",
   "execution_count": 153,
   "id": "cfea955d-7e24-4ee8-ac64-3b4b488bdb92",
   "metadata": {},
   "outputs": [
    {
     "data": {
      "text/plain": [
       "[203, 'Hyderabad', 2.03, True, False, 45, 90, 90, 80, 80, 60, 70, 30]"
      ]
     },
     "execution_count": 153,
     "metadata": {},
     "output_type": "execute_result"
    }
   ],
   "source": [
    "c"
   ]
  },
  {
   "cell_type": "code",
   "execution_count": 154,
   "id": "f8e8f198-c4a4-44b1-a032-136d9f719b06",
   "metadata": {},
   "outputs": [],
   "source": [
    "c.clear()"
   ]
  },
  {
   "cell_type": "code",
   "execution_count": 155,
   "id": "78a4c544-0420-4c98-a152-c794c5bf78db",
   "metadata": {},
   "outputs": [
    {
     "data": {
      "text/plain": [
       "[]"
      ]
     },
     "execution_count": 155,
     "metadata": {},
     "output_type": "execute_result"
    }
   ],
   "source": [
    "c"
   ]
  },
  {
   "cell_type": "code",
   "execution_count": 156,
   "id": "c80da1cd-df65-4931-9ac5-32c637700994",
   "metadata": {},
   "outputs": [],
   "source": [
    "del c"
   ]
  },
  {
   "cell_type": "code",
   "execution_count": null,
   "id": "3694481e-89ea-4d51-b752-bd2dd0d5e4f0",
   "metadata": {},
   "outputs": [],
   "source": []
  },
  {
   "cell_type": "code",
   "execution_count": null,
   "id": "79bc41c6-8a68-4a96-93e6-74e108991e48",
   "metadata": {},
   "outputs": [],
   "source": []
  },
  {
   "cell_type": "code",
   "execution_count": null,
   "id": "3ea0c056-f4b0-407a-9a04-bbe787d50a44",
   "metadata": {},
   "outputs": [],
   "source": []
  },
  {
   "cell_type": "code",
   "execution_count": null,
   "id": "650916b6-5929-4dd2-8ed3-bed019f2a803",
   "metadata": {},
   "outputs": [],
   "source": []
  },
  {
   "cell_type": "code",
   "execution_count": null,
   "id": "6403f872-1066-44a5-8708-96da5e852a5c",
   "metadata": {},
   "outputs": [],
   "source": []
  },
  {
   "cell_type": "code",
   "execution_count": null,
   "id": "b0360791-edce-4dce-91db-2352a23af9b3",
   "metadata": {},
   "outputs": [],
   "source": []
  },
  {
   "cell_type": "code",
   "execution_count": null,
   "id": "c7a6f55c-5fac-4768-afa5-3b04d2993bfb",
   "metadata": {},
   "outputs": [],
   "source": []
  },
  {
   "cell_type": "code",
   "execution_count": null,
   "id": "711a3215-73e2-43ae-8340-4a77c8fad5ab",
   "metadata": {},
   "outputs": [],
   "source": []
  },
  {
   "cell_type": "code",
   "execution_count": null,
   "id": "bca634ff-282d-441e-a38f-7e55416cf95a",
   "metadata": {},
   "outputs": [],
   "source": []
  },
  {
   "cell_type": "code",
   "execution_count": null,
   "id": "9a4e700f-5048-419b-9666-98cb88e39373",
   "metadata": {},
   "outputs": [],
   "source": []
  }
 ],
 "metadata": {
  "kernelspec": {
   "display_name": "Python 3 (ipykernel)",
   "language": "python",
   "name": "python3"
  },
  "language_info": {
   "codemirror_mode": {
    "name": "ipython",
    "version": 3
   },
   "file_extension": ".py",
   "mimetype": "text/x-python",
   "name": "python",
   "nbconvert_exporter": "python",
   "pygments_lexer": "ipython3",
   "version": "3.12.7"
  }
 },
 "nbformat": 4,
 "nbformat_minor": 5
}
